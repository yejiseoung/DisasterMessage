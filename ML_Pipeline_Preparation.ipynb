{
 "cells": [
  {
   "cell_type": "markdown",
   "metadata": {},
   "source": [
    "# ML Pipeline Preparation\n",
    "Follow the instructions below to help you create your ML pipeline.\n",
    "### 1. Import libraries and load data from database.\n",
    "- Import Python libraries\n",
    "- Load dataset from database with [`read_sql_table`](https://pandas.pydata.org/pandas-docs/stable/generated/pandas.read_sql_table.html)\n",
    "- Define feature and target variables X and Y"
   ]
  },
  {
   "cell_type": "code",
   "execution_count": 1,
   "metadata": {},
   "outputs": [
    {
     "data": {
      "text/plain": [
       "'/Users/yejiseoung/Dropbox/My Mac (Yejis-MacBook-Pro.local)/Documents/Projects/Disaster'"
      ]
     },
     "execution_count": 1,
     "metadata": {},
     "output_type": "execute_result"
    }
   ],
   "source": [
    "# import libraries\n",
    "import numpy as np\n",
    "import pandas as pd\n",
    "from sqlalchemy import create_engine\n",
    "import nltk\n",
    "\n",
    "from sklearn.pipeline import Pipeline\n",
    "from sklearn.model_selection import train_test_split, GridSearchCV\n",
    "from sklearn.metrics import classification_report\n",
    "from sklearn.metrics import confusion_matrix\n",
    "from sklearn.metrics import fbeta_score, make_scorer\n",
    "from sklearn.ensemble import GradientBoostingClassifier, RandomForestClassifier\n",
    "from sklearn.feature_extraction.text import TfidfTransformer, CountVectorizer\n",
    "from sklearn.multioutput import MultiOutputClassifier\n",
    "import pickle\n",
    "\n",
    "import warnings\n",
    "warnings.filterwarnings('ignore')\n",
    "from pathlib import Path\n",
    "import os\n",
    "os.getcwd()"
   ]
  },
  {
   "cell_type": "code",
   "execution_count": 2,
   "metadata": {},
   "outputs": [],
   "source": [
    "path = Path('/Users/yejiseoung/Dropbox/My Mac (Yejis-MacBook-Pro.local)/Documents/Projects/Disaster')"
   ]
  },
  {
   "cell_type": "code",
   "execution_count": 3,
   "metadata": {},
   "outputs": [
    {
     "data": {
      "text/html": [
       "<div>\n",
       "<style scoped>\n",
       "    .dataframe tbody tr th:only-of-type {\n",
       "        vertical-align: middle;\n",
       "    }\n",
       "\n",
       "    .dataframe tbody tr th {\n",
       "        vertical-align: top;\n",
       "    }\n",
       "\n",
       "    .dataframe thead th {\n",
       "        text-align: right;\n",
       "    }\n",
       "</style>\n",
       "<table border=\"1\" class=\"dataframe\">\n",
       "  <thead>\n",
       "    <tr style=\"text-align: right;\">\n",
       "      <th></th>\n",
       "      <th>id</th>\n",
       "      <th>message</th>\n",
       "      <th>original</th>\n",
       "      <th>genre</th>\n",
       "      <th>related</th>\n",
       "      <th>request</th>\n",
       "      <th>offer</th>\n",
       "      <th>aid_related</th>\n",
       "      <th>medical_help</th>\n",
       "      <th>medical_products</th>\n",
       "      <th>...</th>\n",
       "      <th>aid_centers</th>\n",
       "      <th>other_infrastructure</th>\n",
       "      <th>weather_related</th>\n",
       "      <th>floods</th>\n",
       "      <th>storm</th>\n",
       "      <th>fire</th>\n",
       "      <th>earthquake</th>\n",
       "      <th>cold</th>\n",
       "      <th>other_weather</th>\n",
       "      <th>direct_report</th>\n",
       "    </tr>\n",
       "  </thead>\n",
       "  <tbody>\n",
       "    <tr>\n",
       "      <th>0</th>\n",
       "      <td>2</td>\n",
       "      <td>Weather update - a cold front from Cuba that c...</td>\n",
       "      <td>Un front froid se retrouve sur Cuba ce matin. ...</td>\n",
       "      <td>direct</td>\n",
       "      <td>1</td>\n",
       "      <td>0</td>\n",
       "      <td>0</td>\n",
       "      <td>0</td>\n",
       "      <td>0</td>\n",
       "      <td>0</td>\n",
       "      <td>...</td>\n",
       "      <td>0</td>\n",
       "      <td>0</td>\n",
       "      <td>0</td>\n",
       "      <td>0</td>\n",
       "      <td>0</td>\n",
       "      <td>0</td>\n",
       "      <td>0</td>\n",
       "      <td>0</td>\n",
       "      <td>0</td>\n",
       "      <td>0</td>\n",
       "    </tr>\n",
       "    <tr>\n",
       "      <th>1</th>\n",
       "      <td>7</td>\n",
       "      <td>Is the Hurricane over or is it not over</td>\n",
       "      <td>Cyclone nan fini osinon li pa fini</td>\n",
       "      <td>direct</td>\n",
       "      <td>1</td>\n",
       "      <td>0</td>\n",
       "      <td>0</td>\n",
       "      <td>1</td>\n",
       "      <td>0</td>\n",
       "      <td>0</td>\n",
       "      <td>...</td>\n",
       "      <td>0</td>\n",
       "      <td>0</td>\n",
       "      <td>1</td>\n",
       "      <td>0</td>\n",
       "      <td>1</td>\n",
       "      <td>0</td>\n",
       "      <td>0</td>\n",
       "      <td>0</td>\n",
       "      <td>0</td>\n",
       "      <td>0</td>\n",
       "    </tr>\n",
       "  </tbody>\n",
       "</table>\n",
       "<p>2 rows × 40 columns</p>\n",
       "</div>"
      ],
      "text/plain": [
       "   id                                            message  \\\n",
       "0   2  Weather update - a cold front from Cuba that c...   \n",
       "1   7            Is the Hurricane over or is it not over   \n",
       "\n",
       "                                            original   genre  related  \\\n",
       "0  Un front froid se retrouve sur Cuba ce matin. ...  direct        1   \n",
       "1                 Cyclone nan fini osinon li pa fini  direct        1   \n",
       "\n",
       "   request  offer  aid_related  medical_help  medical_products  ...  \\\n",
       "0        0      0            0             0                 0  ...   \n",
       "1        0      0            1             0                 0  ...   \n",
       "\n",
       "   aid_centers  other_infrastructure  weather_related  floods  storm  fire  \\\n",
       "0            0                     0                0       0      0     0   \n",
       "1            0                     0                1       0      1     0   \n",
       "\n",
       "   earthquake  cold  other_weather  direct_report  \n",
       "0           0     0              0              0  \n",
       "1           0     0              0              0  \n",
       "\n",
       "[2 rows x 40 columns]"
      ]
     },
     "execution_count": 3,
     "metadata": {},
     "output_type": "execute_result"
    }
   ],
   "source": [
    "# load data from database\n",
    "engine = create_engine('sqlite:///disaster.db')\n",
    "df = pd.read_sql('SELECT * FROM disaster', engine)\n",
    "df.head(2)"
   ]
  },
  {
   "cell_type": "code",
   "execution_count": 4,
   "metadata": {},
   "outputs": [
    {
     "data": {
      "text/plain": [
       "Index(['id', 'message', 'original', 'genre', 'related', 'request', 'offer',\n",
       "       'aid_related', 'medical_help', 'medical_products', 'search_and_rescue',\n",
       "       'security', 'military', 'child_alone', 'water', 'food', 'shelter',\n",
       "       'clothing', 'money', 'missing_people', 'refugees', 'death', 'other_aid',\n",
       "       'infrastructure_related', 'transport', 'buildings', 'electricity',\n",
       "       'tools', 'hospitals', 'shops', 'aid_centers', 'other_infrastructure',\n",
       "       'weather_related', 'floods', 'storm', 'fire', 'earthquake', 'cold',\n",
       "       'other_weather', 'direct_report'],\n",
       "      dtype='object')"
      ]
     },
     "execution_count": 4,
     "metadata": {},
     "output_type": "execute_result"
    }
   ],
   "source": [
    "df.columns"
   ]
  },
  {
   "cell_type": "code",
   "execution_count": 5,
   "metadata": {
    "scrolled": true
   },
   "outputs": [
    {
     "data": {
      "text/plain": [
       "array([0])"
      ]
     },
     "execution_count": 5,
     "metadata": {},
     "output_type": "execute_result"
    }
   ],
   "source": [
    "df['child_alone'].unique()"
   ]
  },
  {
   "cell_type": "code",
   "execution_count": 6,
   "metadata": {},
   "outputs": [
    {
     "data": {
      "text/plain": [
       "array([1, 0, 2])"
      ]
     },
     "execution_count": 6,
     "metadata": {},
     "output_type": "execute_result"
    }
   ],
   "source": [
    "df['related'].unique()"
   ]
  },
  {
   "cell_type": "code",
   "execution_count": 7,
   "metadata": {},
   "outputs": [
    {
     "data": {
      "text/html": [
       "<div>\n",
       "<style scoped>\n",
       "    .dataframe tbody tr th:only-of-type {\n",
       "        vertical-align: middle;\n",
       "    }\n",
       "\n",
       "    .dataframe tbody tr th {\n",
       "        vertical-align: top;\n",
       "    }\n",
       "\n",
       "    .dataframe thead th {\n",
       "        text-align: right;\n",
       "    }\n",
       "</style>\n",
       "<table border=\"1\" class=\"dataframe\">\n",
       "  <thead>\n",
       "    <tr style=\"text-align: right;\">\n",
       "      <th></th>\n",
       "      <th>id</th>\n",
       "      <th>message</th>\n",
       "      <th>original</th>\n",
       "      <th>genre</th>\n",
       "      <th>related</th>\n",
       "      <th>request</th>\n",
       "      <th>offer</th>\n",
       "      <th>aid_related</th>\n",
       "      <th>medical_help</th>\n",
       "      <th>medical_products</th>\n",
       "      <th>...</th>\n",
       "      <th>aid_centers</th>\n",
       "      <th>other_infrastructure</th>\n",
       "      <th>weather_related</th>\n",
       "      <th>floods</th>\n",
       "      <th>storm</th>\n",
       "      <th>fire</th>\n",
       "      <th>earthquake</th>\n",
       "      <th>cold</th>\n",
       "      <th>other_weather</th>\n",
       "      <th>direct_report</th>\n",
       "    </tr>\n",
       "  </thead>\n",
       "  <tbody>\n",
       "    <tr>\n",
       "      <th>0</th>\n",
       "      <td>2</td>\n",
       "      <td>Weather update - a cold front from Cuba that c...</td>\n",
       "      <td>Un front froid se retrouve sur Cuba ce matin. ...</td>\n",
       "      <td>direct</td>\n",
       "      <td>1</td>\n",
       "      <td>0</td>\n",
       "      <td>0</td>\n",
       "      <td>0</td>\n",
       "      <td>0</td>\n",
       "      <td>0</td>\n",
       "      <td>...</td>\n",
       "      <td>0</td>\n",
       "      <td>0</td>\n",
       "      <td>0</td>\n",
       "      <td>0</td>\n",
       "      <td>0</td>\n",
       "      <td>0</td>\n",
       "      <td>0</td>\n",
       "      <td>0</td>\n",
       "      <td>0</td>\n",
       "      <td>0</td>\n",
       "    </tr>\n",
       "    <tr>\n",
       "      <th>1</th>\n",
       "      <td>7</td>\n",
       "      <td>Is the Hurricane over or is it not over</td>\n",
       "      <td>Cyclone nan fini osinon li pa fini</td>\n",
       "      <td>direct</td>\n",
       "      <td>1</td>\n",
       "      <td>0</td>\n",
       "      <td>0</td>\n",
       "      <td>1</td>\n",
       "      <td>0</td>\n",
       "      <td>0</td>\n",
       "      <td>...</td>\n",
       "      <td>0</td>\n",
       "      <td>0</td>\n",
       "      <td>1</td>\n",
       "      <td>0</td>\n",
       "      <td>1</td>\n",
       "      <td>0</td>\n",
       "      <td>0</td>\n",
       "      <td>0</td>\n",
       "      <td>0</td>\n",
       "      <td>0</td>\n",
       "    </tr>\n",
       "    <tr>\n",
       "      <th>2</th>\n",
       "      <td>8</td>\n",
       "      <td>Looking for someone but no name</td>\n",
       "      <td>Patnm, di Maryani relem pou li banm nouvel li ...</td>\n",
       "      <td>direct</td>\n",
       "      <td>1</td>\n",
       "      <td>0</td>\n",
       "      <td>0</td>\n",
       "      <td>0</td>\n",
       "      <td>0</td>\n",
       "      <td>0</td>\n",
       "      <td>...</td>\n",
       "      <td>0</td>\n",
       "      <td>0</td>\n",
       "      <td>0</td>\n",
       "      <td>0</td>\n",
       "      <td>0</td>\n",
       "      <td>0</td>\n",
       "      <td>0</td>\n",
       "      <td>0</td>\n",
       "      <td>0</td>\n",
       "      <td>0</td>\n",
       "    </tr>\n",
       "    <tr>\n",
       "      <th>3</th>\n",
       "      <td>9</td>\n",
       "      <td>UN reports Leogane 80-90 destroyed. Only Hospi...</td>\n",
       "      <td>UN reports Leogane 80-90 destroyed. Only Hospi...</td>\n",
       "      <td>direct</td>\n",
       "      <td>1</td>\n",
       "      <td>1</td>\n",
       "      <td>0</td>\n",
       "      <td>1</td>\n",
       "      <td>0</td>\n",
       "      <td>1</td>\n",
       "      <td>...</td>\n",
       "      <td>0</td>\n",
       "      <td>0</td>\n",
       "      <td>0</td>\n",
       "      <td>0</td>\n",
       "      <td>0</td>\n",
       "      <td>0</td>\n",
       "      <td>0</td>\n",
       "      <td>0</td>\n",
       "      <td>0</td>\n",
       "      <td>0</td>\n",
       "    </tr>\n",
       "    <tr>\n",
       "      <th>4</th>\n",
       "      <td>12</td>\n",
       "      <td>says: west side of Haiti, rest of the country ...</td>\n",
       "      <td>facade ouest d Haiti et le reste du pays aujou...</td>\n",
       "      <td>direct</td>\n",
       "      <td>1</td>\n",
       "      <td>0</td>\n",
       "      <td>0</td>\n",
       "      <td>0</td>\n",
       "      <td>0</td>\n",
       "      <td>0</td>\n",
       "      <td>...</td>\n",
       "      <td>0</td>\n",
       "      <td>0</td>\n",
       "      <td>0</td>\n",
       "      <td>0</td>\n",
       "      <td>0</td>\n",
       "      <td>0</td>\n",
       "      <td>0</td>\n",
       "      <td>0</td>\n",
       "      <td>0</td>\n",
       "      <td>0</td>\n",
       "    </tr>\n",
       "  </tbody>\n",
       "</table>\n",
       "<p>5 rows × 40 columns</p>\n",
       "</div>"
      ],
      "text/plain": [
       "   id                                            message  \\\n",
       "0   2  Weather update - a cold front from Cuba that c...   \n",
       "1   7            Is the Hurricane over or is it not over   \n",
       "2   8                    Looking for someone but no name   \n",
       "3   9  UN reports Leogane 80-90 destroyed. Only Hospi...   \n",
       "4  12  says: west side of Haiti, rest of the country ...   \n",
       "\n",
       "                                            original   genre  related  \\\n",
       "0  Un front froid se retrouve sur Cuba ce matin. ...  direct        1   \n",
       "1                 Cyclone nan fini osinon li pa fini  direct        1   \n",
       "2  Patnm, di Maryani relem pou li banm nouvel li ...  direct        1   \n",
       "3  UN reports Leogane 80-90 destroyed. Only Hospi...  direct        1   \n",
       "4  facade ouest d Haiti et le reste du pays aujou...  direct        1   \n",
       "\n",
       "   request  offer  aid_related  medical_help  medical_products  ...  \\\n",
       "0        0      0            0             0                 0  ...   \n",
       "1        0      0            1             0                 0  ...   \n",
       "2        0      0            0             0                 0  ...   \n",
       "3        1      0            1             0                 1  ...   \n",
       "4        0      0            0             0                 0  ...   \n",
       "\n",
       "   aid_centers  other_infrastructure  weather_related  floods  storm  fire  \\\n",
       "0            0                     0                0       0      0     0   \n",
       "1            0                     0                1       0      1     0   \n",
       "2            0                     0                0       0      0     0   \n",
       "3            0                     0                0       0      0     0   \n",
       "4            0                     0                0       0      0     0   \n",
       "\n",
       "   earthquake  cold  other_weather  direct_report  \n",
       "0           0     0              0              0  \n",
       "1           0     0              0              0  \n",
       "2           0     0              0              0  \n",
       "3           0     0              0              0  \n",
       "4           0     0              0              0  \n",
       "\n",
       "[5 rows x 40 columns]"
      ]
     },
     "execution_count": 7,
     "metadata": {},
     "output_type": "execute_result"
    }
   ],
   "source": [
    "X = df.filter(items=['id', 'message', 'original', 'genre'])\n",
    "y = df.drop(['id', 'message', 'original', 'genre', 'child_alone'], axis=1) # child_alone has all '0' values\n",
    "\n",
    "# Change '2' values in 'related' to '1'\n",
    "y['related'] = y['related'].map(lambda x: 1 if x==2 else x)\n",
    "df.head()"
   ]
  },
  {
   "cell_type": "code",
   "execution_count": 8,
   "metadata": {
    "scrolled": true
   },
   "outputs": [
    {
     "data": {
      "text/plain": [
       "1    Is the Hurricane over or is it not over\n",
       "Name: message, dtype: object"
      ]
     },
     "execution_count": 8,
     "metadata": {},
     "output_type": "execute_result"
    }
   ],
   "source": [
    "X['message'].iloc[[1]]"
   ]
  },
  {
   "cell_type": "code",
   "execution_count": 9,
   "metadata": {},
   "outputs": [
    {
     "data": {
      "text/plain": [
       "1    Cyclone nan fini osinon li pa fini\n",
       "Name: original, dtype: object"
      ]
     },
     "execution_count": 9,
     "metadata": {},
     "output_type": "execute_result"
    }
   ],
   "source": [
    "X['original'].iloc[[1]]"
   ]
  },
  {
   "cell_type": "markdown",
   "metadata": {},
   "source": [
    "### 2. Write a tokenization function to process your text data"
   ]
  },
  {
   "cell_type": "code",
   "execution_count": 10,
   "metadata": {},
   "outputs": [],
   "source": [
    "def tokenize(text):\n",
    "    tokens = nltk.word_tokenize(text)\n",
    "    lemmatizer = nltk.WordNetLemmatizer()\n",
    "    return [lemmatizer.lemmatize(w).lower().strip() for w in tokens]"
   ]
  },
  {
   "cell_type": "markdown",
   "metadata": {},
   "source": [
    "### 3. Build a machine learning pipeline\n",
    "This machine pipeline should take in the `message` column as input and output classification results on the other 36 categories in the dataset. You may find the [MultiOutputClassifier](http://scikit-learn.org/stable/modules/generated/sklearn.multioutput.MultiOutputClassifier.html) helpful for predicting multiple target variables."
   ]
  },
  {
   "cell_type": "code",
   "execution_count": 11,
   "metadata": {},
   "outputs": [],
   "source": [
    "pipeline = Pipeline([\n",
    "    ('cvect', CountVectorizer(tokenizer=tokenize)),\n",
    "    ('tfidf', TfidfTransformer()),\n",
    "    ('clf', RandomForestClassifier()),\n",
    "])"
   ]
  },
  {
   "cell_type": "markdown",
   "metadata": {},
   "source": [
    "### 4. Train pipeline\n",
    "- Split data into train and test sets\n",
    "- Train pipeline"
   ]
  },
  {
   "cell_type": "code",
   "execution_count": 12,
   "metadata": {},
   "outputs": [
    {
     "data": {
      "text/plain": [
       "Pipeline(steps=[('cvect',\n",
       "                 CountVectorizer(tokenizer=<function tokenize at 0x7ffc68be0e50>)),\n",
       "                ('tfidf', TfidfTransformer()),\n",
       "                ('clf', RandomForestClassifier())])"
      ]
     },
     "execution_count": 12,
     "metadata": {},
     "output_type": "execute_result"
    }
   ],
   "source": [
    "X_train, X_test, y_train, y_test = train_test_split(X, y, test_size=0.3, random_state=42)\n",
    "pipeline.fit(X_train['message'], y_train)"
   ]
  },
  {
   "cell_type": "markdown",
   "metadata": {},
   "source": [
    "### 5. Test your model\n",
    "Report the f1 score, precision and recall for each output category of the dataset. You can do this by iterating through the columns and calling sklearn's `classification_report` on each."
   ]
  },
  {
   "cell_type": "code",
   "execution_count": 13,
   "metadata": {},
   "outputs": [
    {
     "name": "stdout",
     "output_type": "stream",
     "text": [
      "                        precision    recall  f1-score   support\n",
      "\n",
      "               related       0.82      0.96      0.88      5992\n",
      "               request       0.90      0.42      0.58      1332\n",
      "                 offer       0.00      0.00      0.00        36\n",
      "           aid_related       0.82      0.49      0.61      3219\n",
      "          medical_help       0.50      0.00      0.01       638\n",
      "      medical_products       0.20      0.00      0.00       418\n",
      "     search_and_rescue       0.00      0.00      0.00       192\n",
      "              security       0.00      0.00      0.00       144\n",
      "              military       0.00      0.00      0.00       245\n",
      "                 water       0.94      0.13      0.23       500\n",
      "                  food       0.95      0.23      0.37       878\n",
      "               shelter       0.87      0.10      0.18       705\n",
      "              clothing       0.67      0.02      0.03       115\n",
      "                 money       0.86      0.04      0.07       170\n",
      "        missing_people       0.00      0.00      0.00        92\n",
      "              refugees       0.00      0.00      0.00       260\n",
      "                 death       0.77      0.03      0.05       366\n",
      "             other_aid       0.82      0.01      0.03      1033\n",
      "infrastructure_related       0.00      0.00      0.00       505\n",
      "             transport       0.60      0.01      0.02       362\n",
      "             buildings       0.33      0.01      0.01       392\n",
      "           electricity       0.00      0.00      0.00       168\n",
      "                 tools       0.00      0.00      0.00        48\n",
      "             hospitals       0.00      0.00      0.00        78\n",
      "                 shops       0.00      0.00      0.00        28\n",
      "           aid_centers       0.00      0.00      0.00       103\n",
      "  other_infrastructure       0.00      0.00      0.00       341\n",
      "       weather_related       0.88      0.46      0.60      2163\n",
      "                floods       0.94      0.22      0.35       623\n",
      "                 storm       0.78      0.17      0.28       738\n",
      "                  fire       0.00      0.00      0.00        83\n",
      "            earthquake       0.89      0.45      0.59       702\n",
      "                  cold       0.00      0.00      0.00       171\n",
      "         other_weather       1.00      0.00      0.00       415\n",
      "         direct_report       0.86      0.33      0.47      1544\n",
      "\n",
      "             micro avg       0.84      0.42      0.56     24799\n",
      "             macro avg       0.44      0.12      0.15     24799\n",
      "          weighted avg       0.73      0.42      0.47     24799\n",
      "           samples avg       0.70      0.42      0.47     24799\n",
      "\n",
      "-----------------------------------------------------------------------------------\n",
      "\n",
      "                         precision    recall  f1-score   support\n",
      "\n",
      "               related       1.00      1.00      1.00     14102\n",
      "               request       1.00      1.00      1.00      3142\n",
      "                 offer       1.00      0.98      0.99        82\n",
      "           aid_related       1.00      1.00      1.00      7641\n",
      "          medical_help       1.00      1.00      1.00      1446\n",
      "      medical_products       1.00      1.00      1.00       895\n",
      "     search_and_rescue       1.00      1.00      1.00       532\n",
      "              security       1.00      1.00      1.00       327\n",
      "              military       1.00      1.00      1.00       615\n",
      "                 water       1.00      1.00      1.00      1172\n",
      "                  food       1.00      1.00      1.00      2045\n",
      "               shelter       1.00      1.00      1.00      1609\n",
      "              clothing       1.00      1.00      1.00       290\n",
      "                 money       1.00      1.00      1.00       434\n",
      "        missing_people       1.00      1.00      1.00       206\n",
      "              refugees       1.00      1.00      1.00       615\n",
      "                 death       1.00      1.00      1.00       828\n",
      "             other_aid       1.00      1.00      1.00      2413\n",
      "infrastructure_related       1.00      1.00      1.00      1200\n",
      "             transport       1.00      1.00      1.00       839\n",
      "             buildings       1.00      1.00      1.00       941\n",
      "           electricity       1.00      1.00      1.00       364\n",
      "                 tools       1.00      0.99      1.00       111\n",
      "             hospitals       1.00      1.00      1.00       205\n",
      "                 shops       1.00      1.00      1.00        92\n",
      "           aid_centers       1.00      0.99      1.00       206\n",
      "  other_infrastructure       1.00      1.00      1.00       810\n",
      "       weather_related       1.00      1.00      1.00      5134\n",
      "                floods       1.00      1.00      1.00      1532\n",
      "                 storm       1.00      1.00      1.00      1705\n",
      "                  fire       1.00      1.00      1.00       199\n",
      "            earthquake       1.00      1.00      1.00      1753\n",
      "                  cold       1.00      1.00      1.00       359\n",
      "         other_weather       1.00      1.00      1.00       961\n",
      "         direct_report       1.00      1.00      1.00      3531\n",
      "\n",
      "             micro avg       1.00      1.00      1.00     58336\n",
      "             macro avg       1.00      1.00      1.00     58336\n",
      "          weighted avg       1.00      1.00      1.00     58336\n",
      "           samples avg       0.77      0.77      0.77     58336\n",
      "\n"
     ]
    }
   ],
   "source": [
    "y_pred_test = pipeline.predict(X_test['message'])\n",
    "y_pred_train = pipeline.predict(X_train['message'])\n",
    "print(classification_report(y_test.values, y_pred_test, target_names=y.columns.values))\n",
    "print('-----------------------------------------------------------------------------------')\n",
    "print('\\n',classification_report(y_train.values, y_pred_train, target_names=y.columns.values))"
   ]
  },
  {
   "cell_type": "markdown",
   "metadata": {},
   "source": [
    "### 6. Improve your model\n",
    "Use grid search to find better parameters. "
   ]
  },
  {
   "cell_type": "code",
   "execution_count": 14,
   "metadata": {},
   "outputs": [
    {
     "name": "stdout",
     "output_type": "stream",
     "text": [
      "Fitting 5 folds for each of 81 candidates, totalling 405 fits\n"
     ]
    },
    {
     "name": "stderr",
     "output_type": "stream",
     "text": [
      "[Parallel(n_jobs=1)]: Using backend SequentialBackend with 1 concurrent workers.\n",
      "[Parallel(n_jobs=1)]: Done 405 out of 405 | elapsed: 40.3min finished\n"
     ]
    },
    {
     "data": {
      "text/plain": [
       "GridSearchCV(estimator=Pipeline(steps=[('cvect',\n",
       "                                        CountVectorizer(tokenizer=<function tokenize at 0x7ffc68be0e50>)),\n",
       "                                       ('tfidf', TfidfTransformer()),\n",
       "                                       ('clf', RandomForestClassifier())]),\n",
       "             n_jobs=1,\n",
       "             param_grid={'clf__max_depth': [10, 20, None],\n",
       "                         'clf__min_samples_leaf': [1, 2, 4],\n",
       "                         'clf__min_samples_split': [2, 5, 10],\n",
       "                         'clf__n_estimators': [10, 20, 40]},\n",
       "             scoring='f1_micro', verbose=1)"
      ]
     },
     "execution_count": 14,
     "metadata": {},
     "output_type": "execute_result"
    }
   ],
   "source": [
    "parameters = {'clf__n_estimators': [10, 20, 40],\n",
    "              'clf__max_depth': [10, 20, None],\n",
    "             'clf__min_samples_leaf': [1, 2, 4],\n",
    "             'clf__min_samples_split': [2, 5, 10],\n",
    "             }\n",
    "\n",
    "cv = GridSearchCV(pipeline, param_grid = parameters, scoring='f1_micro', verbose=1, n_jobs=1)\n",
    "cv.fit(X_train['message'], y_train)"
   ]
  },
  {
   "cell_type": "markdown",
   "metadata": {},
   "source": [
    "### 7. Test your model\n",
    "Show the accuracy, precision, and recall of the tuned model.  \n",
    "\n",
    "Since this project focuses on code quality, process, and  pipelines, there is no minimum performance metric needed to pass. However, make sure to fine tune your models for accuracy, precision and recall to make your project stand out - especially for your portfolio!"
   ]
  },
  {
   "cell_type": "code",
   "execution_count": 15,
   "metadata": {},
   "outputs": [
    {
     "name": "stdout",
     "output_type": "stream",
     "text": [
      "                        precision    recall  f1-score   support\n",
      "\n",
      "               related       0.82      0.95      0.88      5992\n",
      "               request       0.85      0.41      0.55      1332\n",
      "                 offer       0.00      0.00      0.00        36\n",
      "           aid_related       0.77      0.50      0.61      3219\n",
      "          medical_help       0.70      0.01      0.02       638\n",
      "      medical_products       0.57      0.01      0.02       418\n",
      "     search_and_rescue       0.00      0.00      0.00       192\n",
      "              security       0.00      0.00      0.00       144\n",
      "              military       0.71      0.02      0.04       245\n",
      "                 water       0.93      0.17      0.28       500\n",
      "                  food       0.89      0.22      0.35       878\n",
      "               shelter       0.82      0.10      0.19       705\n",
      "              clothing       0.80      0.03      0.07       115\n",
      "                 money       0.86      0.04      0.07       170\n",
      "        missing_people       0.00      0.00      0.00        92\n",
      "              refugees       0.00      0.00      0.00       260\n",
      "                 death       0.86      0.03      0.06       366\n",
      "             other_aid       0.76      0.02      0.03      1033\n",
      "infrastructure_related       0.00      0.00      0.00       505\n",
      "             transport       0.83      0.01      0.03       362\n",
      "             buildings       0.75      0.01      0.02       392\n",
      "           electricity       0.00      0.00      0.00       168\n",
      "                 tools       0.00      0.00      0.00        48\n",
      "             hospitals       0.00      0.00      0.00        78\n",
      "                 shops       0.00      0.00      0.00        28\n",
      "           aid_centers       0.00      0.00      0.00       103\n",
      "  other_infrastructure       0.00      0.00      0.00       341\n",
      "       weather_related       0.88      0.46      0.61      2163\n",
      "                floods       0.92      0.26      0.40       623\n",
      "                 storm       0.80      0.18      0.29       738\n",
      "                  fire       0.00      0.00      0.00        83\n",
      "            earthquake       0.89      0.45      0.60       702\n",
      "                  cold       0.00      0.00      0.00       171\n",
      "         other_weather       1.00      0.00      0.00       415\n",
      "         direct_report       0.82      0.32      0.46      1544\n",
      "\n",
      "             micro avg       0.82      0.42      0.56     24799\n",
      "             macro avg       0.49      0.12      0.16     24799\n",
      "          weighted avg       0.75      0.42      0.47     24799\n",
      "           samples avg       0.69      0.41      0.47     24799\n",
      "\n",
      "--------------------------------------------------------------------------------\n",
      "\n",
      "                         precision    recall  f1-score   support\n",
      "\n",
      "               related       0.99      1.00      0.99     14102\n",
      "               request       1.00      0.91      0.95      3142\n",
      "                 offer       1.00      0.28      0.44        82\n",
      "           aid_related       1.00      0.98      0.99      7641\n",
      "          medical_help       1.00      0.72      0.84      1446\n",
      "      medical_products       1.00      0.70      0.82       895\n",
      "     search_and_rescue       1.00      0.60      0.75       532\n",
      "              security       1.00      0.56      0.72       327\n",
      "              military       1.00      0.81      0.90       615\n",
      "                 water       1.00      0.89      0.94      1172\n",
      "                  food       1.00      0.91      0.95      2045\n",
      "               shelter       1.00      0.83      0.91      1609\n",
      "              clothing       1.00      0.66      0.79       290\n",
      "                 money       1.00      0.62      0.76       434\n",
      "        missing_people       1.00      0.50      0.66       206\n",
      "              refugees       1.00      0.63      0.77       615\n",
      "                 death       1.00      0.76      0.86       828\n",
      "             other_aid       1.00      0.77      0.87      2413\n",
      "infrastructure_related       1.00      0.68      0.81      1200\n",
      "             transport       1.00      0.67      0.80       839\n",
      "             buildings       1.00      0.70      0.83       941\n",
      "           electricity       1.00      0.65      0.79       364\n",
      "                 tools       1.00      0.41      0.59       111\n",
      "             hospitals       1.00      0.58      0.73       205\n",
      "                 shops       1.00      0.49      0.66        92\n",
      "           aid_centers       1.00      0.53      0.69       206\n",
      "  other_infrastructure       1.00      0.66      0.79       810\n",
      "       weather_related       1.00      0.96      0.98      5134\n",
      "                floods       1.00      0.85      0.92      1532\n",
      "                 storm       1.00      0.89      0.94      1705\n",
      "                  fire       1.00      0.64      0.78       199\n",
      "            earthquake       0.99      0.92      0.96      1753\n",
      "                  cold       1.00      0.64      0.78       359\n",
      "         other_weather       1.00      0.66      0.79       961\n",
      "         direct_report       1.00      0.91      0.95      3531\n",
      "\n",
      "             micro avg       1.00      0.88      0.94     58336\n",
      "             macro avg       1.00      0.71      0.82     58336\n",
      "          weighted avg       1.00      0.88      0.93     58336\n",
      "           samples avg       0.77      0.71      0.73     58336\n",
      "\n"
     ]
    }
   ],
   "source": [
    "y_pred_test = cv.predict(X_test['message'])\n",
    "y_pred_train = cv.predict(X_train['message'])\n",
    "print(classification_report(y_test.values, y_pred_test, target_names=y.columns.values))\n",
    "print('--------------------------------------------------------------------------------')\n",
    "print('\\n', classification_report(y_train.values, y_pred_train, target_names=y.columns.values))"
   ]
  },
  {
   "cell_type": "markdown",
   "metadata": {},
   "source": [
    "### 8. Try improving your model further. Here are a few ideas:\n",
    "* try other machine learning algorithms\n",
    "* add other features besides the TF-IDF"
   ]
  },
  {
   "cell_type": "code",
   "execution_count": 16,
   "metadata": {},
   "outputs": [
    {
     "data": {
      "text/plain": [
       "{'clf__max_depth': None,\n",
       " 'clf__min_samples_leaf': 1,\n",
       " 'clf__min_samples_split': 5,\n",
       " 'clf__n_estimators': 20}"
      ]
     },
     "execution_count": 16,
     "metadata": {},
     "output_type": "execute_result"
    }
   ],
   "source": [
    "cv.best_params_"
   ]
  },
  {
   "cell_type": "markdown",
   "metadata": {},
   "source": [
    "### 9. Export your model as a pickle file"
   ]
  },
  {
   "cell_type": "code",
   "execution_count": 17,
   "metadata": {},
   "outputs": [],
   "source": [
    "random_m1 = pickle.dumps('clf')"
   ]
  },
  {
   "cell_type": "code",
   "execution_count": 18,
   "metadata": {},
   "outputs": [],
   "source": [
    "# load the model\n",
    "m = pickle.loads(random_m1)"
   ]
  },
  {
   "cell_type": "code",
   "execution_count": 19,
   "metadata": {},
   "outputs": [
    {
     "data": {
      "text/plain": [
       "'clf'"
      ]
     },
     "execution_count": 19,
     "metadata": {},
     "output_type": "execute_result"
    }
   ],
   "source": [
    "m"
   ]
  },
  {
   "cell_type": "code",
   "execution_count": 20,
   "metadata": {},
   "outputs": [],
   "source": [
    "ramdom_m1 = pickle.dump('clf', open('random_m1.pkl', 'wb'))"
   ]
  },
  {
   "cell_type": "markdown",
   "metadata": {},
   "source": [
    "### 10. Use this notebook to complete `train.py`\n",
    "Use the template file attached in the Resources folder to write a script that runs the steps above to create a database and export a model based on a new dataset specified by the user."
   ]
  },
  {
   "cell_type": "code",
   "execution_count": null,
   "metadata": {},
   "outputs": [],
   "source": []
  }
 ],
 "metadata": {
  "kernelspec": {
   "display_name": "Python 3",
   "language": "python",
   "name": "python3"
  },
  "language_info": {
   "codemirror_mode": {
    "name": "ipython",
    "version": 3
   },
   "file_extension": ".py",
   "mimetype": "text/x-python",
   "name": "python",
   "nbconvert_exporter": "python",
   "pygments_lexer": "ipython3",
   "version": "3.8.5"
  },
  "toc": {
   "base_numbering": 1,
   "nav_menu": {},
   "number_sections": true,
   "sideBar": true,
   "skip_h1_title": false,
   "title_cell": "Table of Contents",
   "title_sidebar": "Contents",
   "toc_cell": false,
   "toc_position": {},
   "toc_section_display": true,
   "toc_window_display": false
  }
 },
 "nbformat": 4,
 "nbformat_minor": 2
}
